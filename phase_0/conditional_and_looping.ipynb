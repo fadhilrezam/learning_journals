{
  "cells": [
    {
      "cell_type": "markdown",
      "metadata": {
        "id": "Y9xh5QPr09tn"
      },
      "source": [
        "#Conditional"
      ]
    },
    {
      "cell_type": "code",
      "execution_count": 2,
      "metadata": {
        "colab": {
          "base_uri": "https://localhost:8080/"
        },
        "id": "42IBUaAjxRUx",
        "outputId": "3902437c-3f50-43f8-af31-79bafc7595c0"
      },
      "outputs": [
        {
          "name": "stdout",
          "output_type": "stream",
          "text": [
            "Isi variabel angka adalah 5\n",
            "Isi variabel angka adalah 5\n"
          ]
        }
      ],
      "source": [
        "angka =5\n",
        "print (f\"Isi variabel angka adalah {angka}\")\n",
        "print (\"Isi variabel angka adalah\",angka)"
      ]
    },
    {
      "cell_type": "code",
      "execution_count": 11,
      "metadata": {
        "colab": {
          "base_uri": "https://localhost:8080/"
        },
        "id": "K70NIRbnx84p",
        "outputId": "0d3d7f9e-9bbb-4a76-80a3-e9f358832bdd"
      },
      "outputs": [
        {
          "name": "stdout",
          "output_type": "stream",
          "text": [
            "Ini sudah di luar if\n"
          ]
        }
      ],
      "source": [
        "#if\n",
        "x = 4\n",
        "if x>5:\n",
        "  print(f\"{x} lebih besar dari 5\")\n",
        "  print(\"Ini masih di dalam if\")\n",
        "print (\"Ini sudah di luar if\") #baris ini tetap di cetak walaupun nilai x tidak sesuai dengan kondisi, karena baris ini di luar conditional if\n"
      ]
    },
    {
      "cell_type": "code",
      "execution_count": 20,
      "metadata": {
        "colab": {
          "base_uri": "https://localhost:8080/"
        },
        "id": "9UQDyLNt1pli",
        "outputId": "9929bea1-34d2-46b1-9af4-427d4cf14a27"
      },
      "outputs": [
        {
          "name": "stdout",
          "output_type": "stream",
          "text": [
            "3 bilangan ganjil\n",
            "4 bilangan ganjil\n"
          ]
        }
      ],
      "source": [
        "#if-else\n",
        "angka = 3\n",
        "if (angka % 2): #kondisi kalo keluar angka 1, maka di print\n",
        "  print (f\"{angka} bilangan ganjil\")\n",
        "else:\n",
        "  print (f\"{angka} bilangan genap\")\n",
        "\n",
        "#atau\n",
        "nomor = 4\n",
        "if (angka % 2 == 0):\n",
        "  print (f\"{nomor} bilangan genap\")\n",
        "else:\n",
        "  print (f\"{nomor} bilangan ganjil\")\n"
      ]
    },
    {
      "cell_type": "code",
      "execution_count": 23,
      "metadata": {
        "colab": {
          "base_uri": "https://localhost:8080/"
        },
        "id": "g1raxfrP4H_Q",
        "outputId": "e6c96dc5-cb1c-4de3-91ba-33663d81f199"
      },
      "outputs": [
        {
          "name": "stdout",
          "output_type": "stream",
          "text": [
            "8 lebih besar dari 7\n"
          ]
        }
      ],
      "source": [
        "#elif\n",
        "angka = 8\n",
        "if (angka == 7):\n",
        "  print(f\"{angka} sama dengan 7\")\n",
        "elif (angka < 7):\n",
        "  print(f\"{angka} lebih kecil dari 7\")\n",
        "else:\n",
        "  print(f\"{angka} lebih besar dari 7\")"
      ]
    },
    {
      "cell_type": "code",
      "execution_count": 29,
      "metadata": {
        "colab": {
          "base_uri": "https://localhost:8080/"
        },
        "id": "R-yHh7ak5NS5",
        "outputId": "9e7bd49e-e5b0-4d89-c9d8-ad09d2f63713"
      },
      "outputs": [
        {
          "name": "stdout",
          "output_type": "stream",
          "text": [
            "Mampir ke toko\n",
            "Beli Jeruk\n"
          ]
        }
      ],
      "source": [
        "#nested if\n",
        "#studi kasus\n",
        "\n",
        "#jumlah buah >3 = dateng, else ga dateng\n",
        "\n",
        "buahbuahan= [\"pepaya\", \"mangga\", \"pisang\", \"jambu\",\"jeruk\"]\n",
        "if len(buahbuahan)>3:\n",
        "  print(\"Mampir ke toko\")\n",
        "  if \"jeruk\" in buahbuahan:\n",
        "    print(\"Beli Jeruk\")\n",
        "  else:\n",
        "    print(\"Tidak ada Jeruk\")\n",
        "    if \"mangga\" in buahbuahan:\n",
        "      print(\"beli Mangga aja deh\")\n",
        "else:\n",
        "  print(\"Ga jadi dateng, kurang variatif\")\n",
        "\n",
        "#cara baca: cek jumlah buahbuahan diatas 3 ? Kalo iya mampir. Cek ada jeruk ? Kalo iya beli, kalo ga ada ga beli. Kemudian kalo buahbuahan <=3, ga jadi dateng"
      ]
    },
    {
      "cell_type": "code",
      "execution_count": 44,
      "metadata": {
        "colab": {
          "base_uri": "https://localhost:8080/"
        },
        "id": "VXUI4fcf7GHO",
        "outputId": "402db03b-6a1a-4cde-a4c1-48fe75577218"
      },
      "outputs": [
        {
          "name": "stdout",
          "output_type": "stream",
          "text": [
            "Masukkan Nilai: 87\n",
            "Indeks Nilai Mahasiswa A\n"
          ]
        }
      ],
      "source": [
        "#Latihan, buat logic\n",
        "#Sebagai dosen menginput nilai, tugas: mengkonversi nilai kedalam kalimat\n",
        "\n",
        "nilai = input (\"Masukkan Nilai: \") #input menyimpan isi dalam bentuk string\n",
        "nilai = eval(nilai) #mengubah jenis inputan dari string ke int\n",
        "if nilai >=85 and nilai <=100:\n",
        "  print (\"Indeks Nilai Mahasiswa A\")\n",
        "elif nilai >=65 and nilai <85:\n",
        "  print (\"Indeks Nilai Mahasiswa B\")\n",
        "elif nilai >=50 and nilai <65:\n",
        "  print (\"Indeks Nilai Mahasiswa C\")\n",
        "elif nilai >=25 and nilai <50:\n",
        "  print (\"Indeks Nilai Mahasiswa D\")\n",
        "elif nilai >=0 and nilai <25:\n",
        "  print (\"Indeks Nilai Mahasiswa E\")\n",
        "else:\n",
        "  print(\"Nilai di bawah Indeks\")"
      ]
    },
    {
      "cell_type": "markdown",
      "metadata": {
        "id": "xKBGAsAf_ad-"
      },
      "source": [
        "# Looping"
      ]
    },
    {
      "cell_type": "code",
      "execution_count": null,
      "metadata": {
        "id": "6yiVVPCC8B-z"
      },
      "outputs": [],
      "source": [
        "#while\n",
        "while True:\n",
        "  print (\"Nama saya Fadhil\")\n",
        "#akan terjadi infinate looping"
      ]
    },
    {
      "cell_type": "code",
      "execution_count": 1,
      "metadata": {
        "colab": {
          "base_uri": "https://localhost:8080/"
        },
        "id": "JR4cB4x_AMPX",
        "outputId": "05848254-65c7-43f5-e204-dc75c7650491"
      },
      "outputs": [
        {
          "name": "stdout",
          "output_type": "stream",
          "text": [
            "Nama saya Fadhil\n",
            "Nama saya Fadhil\n",
            "Nama saya Fadhil\n",
            "Nama saya Fadhil\n",
            "Nama saya Fadhil\n"
          ]
        }
      ],
      "source": [
        "ulang =5\n",
        "while ulang >0:\n",
        "  print (\"Nama saya Fadhil\")\n",
        "  ulang = ulang -1  #penulisan lain: ulang -= 1\n"
      ]
    },
    {
      "cell_type": "code",
      "execution_count": null,
      "metadata": {
        "id": "S3YupjzvBuGI"
      },
      "outputs": [],
      "source": [
        "#tabel perkalian 7\n",
        "i = 1\n",
        "while i <=10:\n",
        "  print (f\"{7} x {i}= {7*i}\")\n",
        "  i += 1"
      ]
    },
    {
      "cell_type": "code",
      "execution_count": null,
      "metadata": {
        "id": "LvsiVS-rFyt4"
      },
      "outputs": [],
      "source": [
        "#tabel perkalian i x j\n",
        "i = 1\n",
        "j = 1\n",
        "while i <=10:\n",
        "  while j <=10:\n",
        "    print (f\"{i} x {j} ={i*j}\")\n",
        "    j +=1\n",
        "  print()\n",
        "  j = 1\n",
        "  i +=1"
      ]
    },
    {
      "cell_type": "code",
      "execution_count": 7,
      "metadata": {
        "colab": {
          "base_uri": "https://localhost:8080/"
        },
        "id": "neeFD68KCW-T",
        "outputId": "cae8ffa4-8f59-456d-ba24-2b72032dae7a"
      },
      "outputs": [
        {
          "name": "stdout",
          "output_type": "stream",
          "text": [
            "Masukkan angka: 1\n",
            "Masukkan angka: 2\n",
            "Masukkan angka: 3\n",
            "Masukkan angka: 4\n",
            "Masukkan angka: 5\n",
            "120\n"
          ]
        }
      ],
      "source": [
        "#calculator 5 input\n",
        "jumlah_input = 5\n",
        "hasil = 1\n",
        "while jumlah_input > 0:\n",
        "  angka = input(\"Masukkan angka: \")\n",
        "  hasil *= eval(angka)\n",
        "  jumlah_input -=1\n",
        "print(hasil)"
      ]
    },
    {
      "cell_type": "code",
      "execution_count": 16,
      "metadata": {
        "colab": {
          "base_uri": "https://localhost:8080/"
        },
        "id": "Uu16DK2_DGFd",
        "outputId": "1648a764-f186-4763-b283-f417ed244e2c"
      },
      "outputs": [
        {
          "name": "stdout",
          "output_type": "stream",
          "text": [
            "masukkan pesanan: mie\n",
            "masukkan pesanan: nasi goreng\n",
            "masukkan pesanan: cukup\n",
            "mie\n",
            "nasi goreng\n"
          ]
        }
      ],
      "source": [
        "#studi kasus\n",
        "#Seorang dev di restaurant, membuat software utk menerima input pesanan makanan di suatu meja sampai konsumen mengetik \"cukup\"\n",
        "#hasil di simpan dalam list, lalu di print\n",
        "\n",
        "daftar_pesanan = []\n",
        "pesanan = \"\"\n",
        "while pesanan != \"cukup\":\n",
        "    pesanan = input(\"masukkan pesanan: \")\n",
        "    if(pesanan != \"cukup\"):\n",
        "        daftar_pesanan.append(pesanan)\n",
        "for x in daftar_pesanan:\n",
        "    print(x)\n",
        "\n"
      ]
    },
    {
      "cell_type": "code",
      "execution_count": 19,
      "metadata": {
        "colab": {
          "base_uri": "https://localhost:8080/"
        },
        "id": "VTfB7QXAG1mo",
        "outputId": "a47af645-782c-4e21-d608-2c6be52555c5"
      },
      "outputs": [
        {
          "name": "stdout",
          "output_type": "stream",
          "text": [
            "buah yang tersedia adalah tomat\n",
            "buah yang tersedia adalah apel\n",
            "buah yang tersedia adalah strawberry\n"
          ]
        }
      ],
      "source": [
        "#for\n",
        "#for <var> in <list>:\n",
        "buahbuahan = [\"tomat\",\"apel\",\"strawberry\"]\n",
        "for buah in buahbuahan:\n",
        "  print (f\"buah yang tersedia adalah {buah}\")\n",
        "\n"
      ]
    },
    {
      "cell_type": "code",
      "execution_count": 28,
      "metadata": {
        "colab": {
          "base_uri": "https://localhost:8080/"
        },
        "id": "E_VW207II0cq",
        "outputId": "f46cf038-dde8-4aa1-dbf4-174e9ce5d7a6"
      },
      "outputs": [
        {
          "name": "stdout",
          "output_type": "stream",
          "text": [
            "Buah yang tersedia adalah: tomat\n",
            "Buah yang tersedia adalah: apel\n",
            "Buah yang tersedia adalah: strawberry\n"
          ]
        }
      ],
      "source": [
        "buahbuahan = [\"tomat\",\"apel\",\"strawberry\"]\n",
        "for i in range(len(buahbuahan)):\n",
        "  print (f\"Buah yang tersedia adalah: {buahbuahan[i]}\")"
      ]
    },
    {
      "cell_type": "code",
      "execution_count": 29,
      "metadata": {
        "colab": {
          "base_uri": "https://localhost:8080/"
        },
        "id": "zTlNn9OSHlnE",
        "outputId": "dd137d9f-98f2-4c83-e9e0-3525fc77a914"
      },
      "outputs": [
        {
          "data": {
            "text/plain": [
              "[1, 3, 5, 7, 9]"
            ]
          },
          "execution_count": 29,
          "metadata": {},
          "output_type": "execute_result"
        }
      ],
      "source": [
        "list(range(1,10,2)) #range 1 sampai 9 dengan skip 2 angka\n"
      ]
    },
    {
      "cell_type": "code",
      "execution_count": 35,
      "metadata": {
        "colab": {
          "base_uri": "https://localhost:8080/"
        },
        "id": "FHvn-TUnJQcq",
        "outputId": "c77f8f6b-4b71-475b-8d0a-46cb7534f561"
      },
      "outputs": [
        {
          "data": {
            "text/plain": [
              "[0, 1, 2]"
            ]
          },
          "execution_count": 35,
          "metadata": {},
          "output_type": "execute_result"
        }
      ],
      "source": [
        "list (range(len(buahbuahan)))"
      ]
    },
    {
      "cell_type": "code",
      "execution_count": 36,
      "metadata": {
        "colab": {
          "base_uri": "https://localhost:8080/"
        },
        "id": "b6TvM6_TK-Yx",
        "outputId": "6bc1a45b-73f4-4dd5-ce4e-6f7ab6a3f7da"
      },
      "outputs": [
        {
          "data": {
            "text/plain": [
              "range(0, 3)"
            ]
          },
          "execution_count": 36,
          "metadata": {},
          "output_type": "execute_result"
        }
      ],
      "source": [
        "range(len(buahbuahan))"
      ]
    },
    {
      "cell_type": "code",
      "execution_count": 40,
      "metadata": {
        "colab": {
          "base_uri": "https://localhost:8080/"
        },
        "id": "HjMcwy1ILC84",
        "outputId": "96f72418-552a-4269-9da6-0c53927194a6"
      },
      "outputs": [
        {
          "name": "stdout",
          "output_type": "stream",
          "text": [
            "1\n",
            "2\n",
            "3\n",
            "4\n",
            "5\n",
            "6\n",
            "7\n",
            "8\n",
            "9\n"
          ]
        }
      ],
      "source": [
        "#break\n",
        "for i in range(1,12):\n",
        "  if i ==10:\n",
        "    break\n",
        "  print(i)"
      ]
    },
    {
      "cell_type": "code",
      "execution_count": 45,
      "metadata": {
        "colab": {
          "base_uri": "https://localhost:8080/"
        },
        "id": "DCR1vMOpLWJm",
        "outputId": "3721e383-3cc0-4f54-de96-6c22cb0141b9"
      },
      "outputs": [
        {
          "name": "stdout",
          "output_type": "stream",
          "text": [
            "1\n",
            "2\n",
            "4\n",
            "5\n",
            "6\n",
            "7\n",
            "8\n",
            "9\n",
            "10\n",
            "11\n"
          ]
        }
      ],
      "source": [
        "#continue\n",
        "for i in range (1,12):\n",
        "  if i == 3:\n",
        "    continue\n",
        "  print (i)\n",
        "  \n"
      ]
    }
  ],
  "metadata": {
    "colab": {
      "collapsed_sections": [],
      "name": "conditional_and_looping.ipynb",
      "provenance": [],
      "toc_visible": true
    },
    "kernelspec": {
      "display_name": "Python 3",
      "name": "python3"
    },
    "language_info": {
      "name": "python"
    }
  },
  "nbformat": 4,
  "nbformat_minor": 0
}
