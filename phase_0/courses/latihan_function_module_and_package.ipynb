{
  "nbformat": 4,
  "nbformat_minor": 0,
  "metadata": {
    "colab": {
      "name": "latihan function_module_and_package.ipynb",
      "provenance": []
    },
    "kernelspec": {
      "name": "python3",
      "display_name": "Python 3"
    },
    "language_info": {
      "name": "python"
    }
  },
  "cells": [
    {
      "cell_type": "markdown",
      "source": [
        "# Function"
      ],
      "metadata": {
        "id": "KvjZr5ZC9uxr"
      }
    },
    {
      "cell_type": "markdown",
      "source": [
        "Required/Keyword Argument (perlu input variabel)"
      ],
      "metadata": {
        "id": "qeea9feNCUQ7"
      }
    },
    {
      "cell_type": "code",
      "source": [
        "def hitung_luas_persegi_panjang(panjang, lebar):\n",
        "  luas=panjang*lebar\n",
        "  print(luas)\n",
        "\n",
        "hitung_luas_persegi_panjang(10,5)\n",
        "hitung_luas_persegi_panjang(100,2)"
      ],
      "metadata": {
        "colab": {
          "base_uri": "https://localhost:8080/"
        },
        "id": "OvHzRmAh900V",
        "outputId": "685dbce0-ce35-4f8f-8664-9f0922e6bb94"
      },
      "execution_count": null,
      "outputs": [
        {
          "output_type": "stream",
          "name": "stdout",
          "text": [
            "50\n",
            "200\n"
          ]
        }
      ]
    },
    {
      "cell_type": "markdown",
      "source": [
        "NOMOR 1\n",
        "\n",
        "Buatlah sebuah function untuk menampilkan tanda plus (+) sebanyak n.\n",
        "\n",
        "Input : n | Jumlah tanda plus (+) yang diinginkan | int\n",
        "Output : Jumlah tanda plus yang ditampilkan\n",
        "Input\tOutput\n",
        "n = 1\t+\n",
        "n = 3\t+\n",
        "+\n",
        "+\n",
        "n = 5\t+\n",
        "+\n",
        "+\n",
        "+\n",
        "+\n",
        "n = 0\tTampilkan pesan Input salah\n",
        "n = -1\tTampilkan pesan Input salah"
      ],
      "metadata": {
        "id": "ypu2Jcna-bAl"
      }
    },
    {
      "cell_type": "code",
      "source": [
        "#studi kasus 1\n",
        "def cetak_plus(n):\n",
        "  if n<=0:\n",
        "    print (\"Input salah\")\n",
        "  else:\n",
        "    for i in range (0,n):\n",
        "      print(\"+\")\n",
        "cetak_plus(7)"
      ],
      "metadata": {
        "id": "vjtqNAE4-UFQ"
      },
      "execution_count": null,
      "outputs": []
    },
    {
      "cell_type": "markdown",
      "source": [
        "NOMOR 2\n",
        "\n",
        "Buat sebuah function untuk mereturn hanya angka genap (positif/negatif) dari sekumpulan list yang berisi nilai-nilai (tidak termasuk 0).\n",
        "\n",
        "Input : daftar_angka : daftar angka-angka | list of int\n",
        "Output : daftar angka-angka genap | list of int"
      ],
      "metadata": {
        "id": "HpGgIRoqAiTg"
      }
    },
    {
      "cell_type": "code",
      "source": [
        "#studi kasus 2\n",
        "def cetak_angka_genap(daftar_angka):\n",
        "  hasil = []\n",
        "  for angka in daftar_angka:\n",
        "    if angka !=0:\n",
        "      if angka % 2 == 0:\n",
        "        hasil.append(angka)\n",
        "  print(hasil)\n",
        "\n",
        "cetak_angka_genap(daftar_angka=[1,2,3,4,5,6])\n"
      ],
      "metadata": {
        "colab": {
          "base_uri": "https://localhost:8080/"
        },
        "id": "fDgjIkAAAXlu",
        "outputId": "ef238703-19bb-40df-f5a7-124e6996f2f3"
      },
      "execution_count": null,
      "outputs": [
        {
          "output_type": "stream",
          "name": "stdout",
          "text": [
            "[2, 4, 6]\n"
          ]
        }
      ]
    },
    {
      "cell_type": "code",
      "source": [
        "#studi kasus 2 bentuk lain\n",
        "def cetak_angka_genap(daftar_angka):\n",
        "  hasil = []\n",
        "  for angka in daftar_angka:\n",
        "    if angka !=0:\n",
        "      if angka % 2 == 0:\n",
        "        hasil.append(angka)\n",
        "  return hasil\n",
        "\n",
        "output=cetak_angka_genap(daftar_angka=[1,2,3,4,5,6])\n",
        "print(output)"
      ],
      "metadata": {
        "colab": {
          "base_uri": "https://localhost:8080/"
        },
        "id": "z4sc2H5dBpMp",
        "outputId": "d18c1fc2-4746-4e22-f6da-416e1fb93905"
      },
      "execution_count": null,
      "outputs": [
        {
          "output_type": "stream",
          "name": "stdout",
          "text": [
            "[2, 4, 6]\n"
          ]
        }
      ]
    },
    {
      "cell_type": "markdown",
      "source": [
        "Default Argument\n",
        "memasukan default value agar tidak error"
      ],
      "metadata": {
        "id": "J0JgQyhzCY6I"
      }
    },
    {
      "cell_type": "markdown",
      "source": [
        "NOMOR 3\n",
        "\n",
        "Buatlah sebuah function untuk menampilkan nama dan negara. Jika tidak ada value pada parameter negara, isi dengan Indonesia.\n",
        "\n",
        "Input : nama | str\n",
        "Input : negara | str"
      ],
      "metadata": {
        "id": "8PpJx9myCpBJ"
      }
    },
    {
      "cell_type": "code",
      "source": [
        "def cetak_nama_dan_negara(nama,negara=\"Indonesia\"): #Indonesia sebagai default value\n",
        "#nama sebagai required argument, negara sebagai default argument\n",
        "  print(\"Halo \",nama,\" dari \",negara)\n",
        "\n",
        "cetak_nama_dan_negara(\"Frank\")\n",
        "cetak_nama_dan_negara(\"Smith\", \"Jerman\") #pemanggilan cara 1\n",
        "cetak_nama_dan_negara(nama=\"Tom\", negara=\"USA\") #pemanggilan cara 2, bisa ditukar (negara, nama)\n",
        "\n"
      ],
      "metadata": {
        "colab": {
          "base_uri": "https://localhost:8080/"
        },
        "id": "v9ju6KqXCbXI",
        "outputId": "db20bc0b-61b5-49f4-b067-c11f2067c3cc"
      },
      "execution_count": null,
      "outputs": [
        {
          "output_type": "stream",
          "name": "stdout",
          "text": [
            "Halo  Frank  dari  Indonesia\n",
            "Halo  Smith  dari  Jerman\n",
            "Halo  Tom  dari  USA\n"
          ]
        }
      ]
    },
    {
      "cell_type": "markdown",
      "source": [
        "NOMOR 4\n",
        "\n",
        "Buatlah sebuah function untuk me-return luas dari dua angka yang dimasukkan berdasarkan jenis bidangnya.\n",
        "\n",
        "Jika hanya 1 angka yang dimasukkan, maka diasumsikan angka tersebut akan digunakan untuk panjang-dan-lebar atau alas-dan-tinggi.\n",
        "Input : mode : jenis bidang (segitiga/persegi) | str\n",
        "mode = segitiga\n",
        "mode = persegi\n",
        "Input : bilangan_1 : bilangan ke-1 | int\n",
        "Input : bilangan_2 : bilangan ke-2 | int\n",
        "Jika tidak ada bilangan yang dimasukkan, maka tampilkan pesan \"Input harus ada angka\".\n",
        "Jika bilangan_1 tidak dimasukkan dan hanya ada bilangan_2, maka tampilkan pesan \"Input harus ada bilangan_1\".\n",
        "\n",
        "Rumus luas persegi = bilangan_1 (panjang) bilangan_2 (lebar)*\n",
        "\n",
        "Rumus luas segitiga = bilangan_1 (alas) bilangan_2 (tinggi) / 2*"
      ],
      "metadata": {
        "id": "iOjkDUGuIxY6"
      }
    },
    {
      "cell_type": "code",
      "source": [
        "def hitung_luas(mode,bilangan_1=0, bilangan_2=0):\n",
        "  #jika tidak ada bilangan yg dimasukan\n",
        "  if bilangan_1 == 0 and bilangan_2 == 0:\n",
        "    print(\"Input harus ada angka\")\n",
        "  \n",
        "  #Jika bilangan 1 tidak dimasukan\n",
        "  elif bilangan_1 == 0:\n",
        "    print(\"Input harus ada bilangan_1\")\n",
        "\n",
        "  else:\n",
        "    #Jika hanya ada bilangan_1 dan tidak ada bilangan_2\n",
        "    if bilangan_2 == 0:\n",
        "      bilangan_2 = bilangan_1\n",
        "    \n",
        "    if mode == \"persegi\":\n",
        "      luas = bilangan_1 * bilangan_2\n",
        "    else:\n",
        "      luas = bilangan_1 * bilangan_2 / 2 \n",
        "    return luas\n",
        "\n",
        "hitung_luas(mode=\"segitiga\", bilangan_1=1, bilangan_2=20)"
      ],
      "metadata": {
        "colab": {
          "base_uri": "https://localhost:8080/"
        },
        "id": "Dvf59UmNIzpA",
        "outputId": "acd2a3e0-9576-4216-e608-6b5a255c4cfd"
      },
      "execution_count": null,
      "outputs": [
        {
          "output_type": "execute_result",
          "data": {
            "text/plain": [
              "10.0"
            ]
          },
          "metadata": {},
          "execution_count": 22
        }
      ]
    },
    {
      "cell_type": "markdown",
      "source": [
        "NOMOR 5"
      ],
      "metadata": {
        "id": "NfP1F0AfRA7g"
      }
    },
    {
      "cell_type": "code",
      "source": [
        "# * (asterisk): bentuk tuple\n",
        "def cetak_angka(posisi, *daftar_angka):\n",
        "  if posisi > len(daftar_angka):\n",
        "    haasil = -1\n",
        "  else:\n",
        "    hasil = daftar_angka[posisi]\n",
        "    return hasil\n",
        "\n",
        "cetak_angka(3,10,20,30,40)\n"
      ],
      "metadata": {
        "colab": {
          "base_uri": "https://localhost:8080/"
        },
        "id": "1UO5W_7sOTQ0",
        "outputId": "0cc738d5-309a-486e-f35a-90a130753e53"
      },
      "execution_count": null,
      "outputs": [
        {
          "output_type": "stream",
          "name": "stdout",
          "text": [
            "(10, 20, 30, 40)\n"
          ]
        },
        {
          "output_type": "execute_result",
          "data": {
            "text/plain": [
              "40"
            ]
          },
          "metadata": {},
          "execution_count": 26
        }
      ]
    },
    {
      "cell_type": "markdown",
      "source": [
        "NOMOR 6\n",
        "\n",
        "Buatlah sebuah function untuk menampilkan nama siswa yang memiliki nilai paling besar\n",
        "\n",
        "Input : Beberapa nama_siswa beserta nilai_siswa"
      ],
      "metadata": {
        "id": "mJzAHUHdQdgf"
      }
    },
    {
      "cell_type": "code",
      "source": [
        "def cek_nilai(**daftar_siswa)\n"
      ],
      "metadata": {
        "id": "2eHU4wfmQmnh"
      },
      "execution_count": null,
      "outputs": []
    },
    {
      "cell_type": "markdown",
      "source": [
        "# Module\n"
      ],
      "metadata": {
        "id": "t5_svMX3Ut9c"
      }
    },
    {
      "cell_type": "code",
      "source": [
        "import person as ps #ps adalah alias"
      ],
      "metadata": {
        "id": "cL1Mw4Q3Uw1x"
      },
      "execution_count": null,
      "outputs": []
    },
    {
      "cell_type": "code",
      "source": [
        "person.name"
      ],
      "metadata": {
        "colab": {
          "base_uri": "https://localhost:8080/",
          "height": 35
        },
        "id": "hUg-bYBVVA91",
        "outputId": "5ced5076-1269-4288-ff53-30eefab7b670"
      },
      "execution_count": null,
      "outputs": [
        {
          "output_type": "execute_result",
          "data": {
            "application/vnd.google.colaboratory.intrinsic+json": {
              "type": "string"
            },
            "text/plain": [
              "'zack'"
            ]
          },
          "metadata": {},
          "execution_count": 31
        }
      ]
    },
    {
      "cell_type": "code",
      "source": [
        "ps.devices"
      ],
      "metadata": {
        "colab": {
          "base_uri": "https://localhost:8080/"
        },
        "id": "ZrrR_xiZVFTO",
        "outputId": "328b7625-2cf9-4e44-acf6-2011265ca970"
      },
      "execution_count": null,
      "outputs": [
        {
          "output_type": "execute_result",
          "data": {
            "text/plain": [
              "['laptop', 'smartphone', 'tablet']"
            ]
          },
          "metadata": {},
          "execution_count": 32
        }
      ]
    },
    {
      "cell_type": "code",
      "source": [
        "ps.display(\"Halo\")"
      ],
      "metadata": {
        "colab": {
          "base_uri": "https://localhost:8080/"
        },
        "id": "PUWywE5DVLet",
        "outputId": "18941dc6-fec5-4999-f429-d234b4d048b9"
      },
      "execution_count": null,
      "outputs": [
        {
          "output_type": "stream",
          "name": "stdout",
          "text": [
            "arg = Halo\n"
          ]
        }
      ]
    },
    {
      "cell_type": "code",
      "source": [
        "person.color"
      ],
      "metadata": {
        "colab": {
          "base_uri": "https://localhost:8080/",
          "height": 35
        },
        "id": "dxM4m4rNWm7I",
        "outputId": "a33ab492-3e8e-41dd-9a5e-00ee3b7c391f"
      },
      "execution_count": null,
      "outputs": [
        {
          "output_type": "execute_result",
          "data": {
            "application/vnd.google.colaboratory.intrinsic+json": {
              "type": "string"
            },
            "text/plain": [
              "'black'"
            ]
          },
          "metadata": {},
          "execution_count": 37
        }
      ]
    },
    {
      "cell_type": "code",
      "source": [
        "#gunakan importlib apabila mengcode yg belum terupdate sebelumnya di file person.py\n",
        "import importlib\n",
        "importlib.reload(person)"
      ],
      "metadata": {
        "colab": {
          "base_uri": "https://localhost:8080/"
        },
        "id": "CsYrDeL6Whxd",
        "outputId": "459e0a77-4d3a-4705-fc8b-2df065d9834e"
      },
      "execution_count": null,
      "outputs": [
        {
          "output_type": "execute_result",
          "data": {
            "text/plain": [
              "<module 'person' from '/content/person.py'>"
            ]
          },
          "metadata": {},
          "execution_count": 38
        }
      ]
    },
    {
      "cell_type": "code",
      "source": [
        "import car"
      ],
      "metadata": {
        "id": "ukr3KORpXNuz"
      },
      "execution_count": null,
      "outputs": []
    },
    {
      "cell_type": "code",
      "source": [
        "from car import brands"
      ],
      "metadata": {
        "id": "tiwLTONdXqF1"
      },
      "execution_count": null,
      "outputs": []
    }
  ]
}